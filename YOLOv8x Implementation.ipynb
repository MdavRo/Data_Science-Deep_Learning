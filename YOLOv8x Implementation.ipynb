version https://git-lfs.github.com/spec/v1
oid sha256:5b98b48b905907f7ee733cdcea89c21890d049a36c7ee095c93d2948e7e2a64c
size 36725763
